{
 "cells": [
  {
   "attachments": {},
   "cell_type": "markdown",
   "metadata": {},
   "source": [
    "# Bonus Project individual\n",
    "\n",
    "## SQP Method\n",
    "\n",
    "### Normal SQP\n",
    "\n",
    "for each problem choose 5 starting points"
   ]
  },
  {
   "cell_type": "code",
   "execution_count": 2,
   "metadata": {},
   "outputs": [],
   "source": [
    "import numpy as np\n",
    "from scipy.optimize import minimize\n",
    "import matplotlib.pyplot as plt"
   ]
  },
  {
   "cell_type": "code",
   "execution_count": 3,
   "metadata": {},
   "outputs": [],
   "source": [
    "def gradient(f, eps):\n",
    "    def g(x_vec):\n",
    "        n = len(x_vec)\n",
    "        grad = np.zeros(n)\n",
    "        x = np.copy(x_vec)\n",
    "        e = np.eye(n)\n",
    "\n",
    "        # based on equation 8.7 from the book\n",
    "        for i in range(n):\n",
    "            grad[i] = (f(x + e[i]*eps) - f(x-e[i]*eps)) / (2 * eps)\n",
    "        return grad\n",
    "    return g\n",
    "\n",
    "def gradient_2(f, eps):\n",
    "    def g(x_vec):\n",
    "        n = len(x_vec)\n",
    "        hessian = np.zeros((n, n))\n",
    "        x = np.copy(x_vec)\n",
    "        e = np.eye(n)\n",
    "\n",
    "        # based on equation 8.21 from the book\n",
    "        for i in range(n):\n",
    "            for j in range(n):\n",
    "                hessian[i][j] = (f(x + e[i]*eps + e[j]*eps) - f(x+e[i]*eps) - f(x+e[j]*eps) + (f(x))) / eps**2\n",
    "        return hessian\n",
    "    return g"
   ]
  },
  {
   "cell_type": "code",
   "execution_count": 4,
   "metadata": {},
   "outputs": [],
   "source": [
    "def SQP_Method(x_0):\n",
    "    x = x_0\n",
    "    n_iterations = 0\n",
    "    return x, n_iterations "
   ]
  },
  {
   "attachments": {},
   "cell_type": "markdown",
   "metadata": {},
   "source": [
    "### 1)\n",
    "$$\\min e^{x_1 x_2 x_3 x_4 x_5} − {1\\over 2} (x_1^3 + x_2^3 + 1)^2$$\n",
    "$$\\text{subject to } x_1^2 + x_2^ 2 + x_3 ^2 + x_4 ^2 + x_5 ^2 − 10 = 0$$\n",
    "$$x_2 x_3 − 5x_4 x_5 = 0$$\n",
    "$$x_1^3 + x_2^3 + 1 = 0$$\n",
    "starting points $x_0 = (−1.71, 1.59, 1.82, −0.763, −0.763)^T$  \n",
    "The solution is $x^*=(−1.8, 1.7, 1.9, −0.8, −0.8)^T$\n",
    "\n",
    "Additional starting points: $x_0 = (0,0,0,0,0)^T$, $x_0 = (1,0,3,0,0)^T$, $x_0 = (3,0,1,1,0)^T$,  $x_0 = (0,1,2,3,4)^T$  "
   ]
  },
  {
   "cell_type": "code",
   "execution_count": 5,
   "metadata": {},
   "outputs": [],
   "source": [
    "def f(x):\n",
    "    return np.exp(x[0]*x[1]*x[2]*x[3]*x[4]) - 0.5 * (x[0]**3 + x[1]**3 + 1)**2\n",
    "\n",
    "# equality constraints\n",
    "def eqc_1(x):\n",
    "    return x[0]**2 + x[1]**2 + x[2]**2 + x[3]**2 + x[4]**2 -10\n",
    "\n",
    "def eqc_2(x):\n",
    "    return x[1] * x[2] - 5 * x[3] * x[4]\n",
    "\n",
    "def eqc_3(x):\n",
    "    return x[0]**3 + x[1]**3 + 1\n",
    "\n",
    "starting_points = [np.array([-1.71, 1.59, 1.82, -0.763, -0.763]),\n",
    "                   np.array([0.0, 0.0, 0.0, 0.0, 0.0]),\n",
    "                   np.array([1.0, 0.0, 3.0, 0.0, 0.0]),\n",
    "                   np.array([3.0, 0.0, 1.0, 1.0, 0.0]),\n",
    "                   np.array([0.0, 1.0, 2.0, 3.0, 4.0])]"
   ]
  },
  {
   "cell_type": "code",
   "execution_count": 9,
   "metadata": {},
   "outputs": [
    {
     "name": "stdout",
     "output_type": "stream",
     "text": [
      " message: Optimization terminated successfully\n",
      " success: True\n",
      "  status: 0\n",
      "     fun: 0.053949847760167556\n",
      "       x: [-1.717e+00  1.596e+00  1.827e+00 -7.636e-01 -7.636e-01]\n",
      "     nit: 3\n",
      "     jac: [ 9.173e-02 -9.871e-02 -8.620e-02  2.063e-01  2.063e-01]\n",
      "    nfev: 18\n",
      "    njev: 3\n",
      "\n",
      " message: Singular matrix C in LSQ subproblem\n",
      " success: False\n",
      "  status: 6\n",
      "     fun: 0.5\n",
      "       x: [ 0.000e+00  0.000e+00  0.000e+00  0.000e+00  0.000e+00]\n",
      "     nit: 1\n",
      "     jac: [ 0.000e+00  0.000e+00  0.000e+00  0.000e+00  0.000e+00]\n",
      "    nfev: 6\n",
      "    njev: 1\n",
      "\n",
      " message: Optimization terminated successfully\n",
      " success: True\n",
      "  status: 0\n",
      "     fun: 1.0\n",
      "       x: [-1.000e+00 -2.968e-32  3.000e+00  0.000e+00  0.000e+00]\n",
      "     nit: 8\n",
      "     jac: [ 3.813e-04  0.000e+00  0.000e+00  0.000e+00  0.000e+00]\n",
      "    nfev: 49\n",
      "    njev: 8\n",
      "\n",
      " message: Optimization terminated successfully\n",
      " success: True\n",
      "  status: 0\n",
      "     fun: 1.0\n",
      "       x: [-1.000e+00  8.820e-14  2.121e+00  2.121e+00  1.764e-14]\n",
      "     nit: 9\n",
      "     jac: [ 1.040e-04  0.000e+00  0.000e+00  0.000e+00  0.000e+00]\n",
      "    nfev: 56\n",
      "    njev: 9\n",
      "\n",
      " message: Optimization terminated successfully\n",
      " success: True\n",
      "  status: 0\n",
      "     fun: 0.45193062471947626\n",
      "       x: [-6.522e-01 -8.974e-01  2.750e+00 -9.757e-01  5.058e-01]\n",
      "     nit: 45\n",
      "     jac: [ 5.504e-01  4.000e-01 -1.305e-01  3.679e-01 -7.096e-01]\n",
      "    nfev: 297\n",
      "    njev: 45\n",
      "\n"
     ]
    },
    {
     "name": "stderr",
     "output_type": "stream",
     "text": [
      "/tmp/ipykernel_39633/3008426413.py:2: RuntimeWarning: overflow encountered in exp\n",
      "  return np.exp(x[0]*x[1]*x[2]*x[3]*x[4]) - 0.5 * (x[0]**3 + x[1]**3 + 1)**2\n"
     ]
    }
   ],
   "source": [
    "# scipy libary\n",
    "for x0 in starting_points:\n",
    "    bounds = [(None, None), (None, None), (None, None), (None, None), (None, None)]\n",
    "    constraint_definition = [{'type': 'eq', 'fun': eqc_1},\n",
    "                             {'type': 'eq', 'fun': eqc_2},\n",
    "                             {'type': 'eq', 'fun': eqc_3}]\n",
    "\n",
    "    result = minimize(f, x0, method='SLSQP', bounds=bounds, constraints=constraint_definition)\n",
    "\n",
    "    print(result)\n",
    "    print()"
   ]
  },
  {
   "attachments": {},
   "cell_type": "markdown",
   "metadata": {},
   "source": [
    "### 2)\n",
    "\n",
    "Rosenbrock function with the following constraints:  \n",
    "$x_1^2+ x_2^2 \\le 1$  \n",
    "$x_2 \\ge 0$\n",
    "\n",
    "with the starting points  \n",
    "$x_0 = (0.8,0.6)^T$, $x_0 = (1,0)^T$, $x_0 = (1,1)^T$, $x_0 = (0,0)^T$, $x_0 = (-1,1)^T$  "
   ]
  },
  {
   "cell_type": "code",
   "execution_count": null,
   "metadata": {},
   "outputs": [],
   "source": [
    "def f(x):\n",
    "    return 100*((x[2]-x[1]**2)**2)+(1-x[1])**2\n",
    "\n",
    "starting_points = [np.array([0.8, 0.6]),\n",
    "                   np.array([1.0, 0.0]),\n",
    "                   np.array([1.0, 1.0]),\n",
    "                   np.array([0.0, 0.0]),\n",
    "                   np.array([-1.0, 1.0])]"
   ]
  },
  {
   "attachments": {},
   "cell_type": "markdown",
   "metadata": {},
   "source": [
    "### 3)\n",
    "The function\n",
    "$$f (x) = 150(x_1x_2)^2 + (0.5x_1 + 2x_2 − 2)^2 ,$$\n",
    "\n",
    "constraints\n",
    "$$0 ≤ c_1 (x) = (x_1 − 1/2)2 + (x_2 − 1)2 − 5/16$$\n",
    "$$0 ≤ c_2 (x) = (x_1 + 1)2 + (x_2 − 3/8)2 − 73/64$$\n",
    "$$0 ≤ c_3 (x) = −(x_1 + 1)2 − (x_2 − 1)2 + \\sqrt 2$$"
   ]
  },
  {
   "cell_type": "code",
   "execution_count": null,
   "metadata": {},
   "outputs": [],
   "source": [
    "def f(x):\n",
    "    return 150*(x[1]*x[2])**2+(0.5*x[1]+2*x[2]-2)**2\n",
    "\n",
    "starting_points = [np.array([0.1, 0.74]),\n",
    "                   np.array([0.0, 0.0]),\n",
    "                   np.array([0.5, 0.5]),\n",
    "                   np.array([0.0, 0.76]),\n",
    "                   np.array([-0.2, 0.8])]"
   ]
  },
  {
   "attachments": {},
   "cell_type": "markdown",
   "metadata": {},
   "source": [
    "### 4) \n",
    "\n",
    "constraints: $$\\|x\\|^2_2 \\le 1$$"
   ]
  },
  {
   "cell_type": "code",
   "execution_count": null,
   "metadata": {},
   "outputs": [],
   "source": []
  },
  {
   "attachments": {},
   "cell_type": "markdown",
   "metadata": {},
   "source": [
    "## Warm Start or Full Quasi-Newton approximation"
   ]
  }
 ],
 "metadata": {
  "kernelspec": {
   "display_name": "Python 3",
   "language": "python",
   "name": "python3"
  },
  "language_info": {
   "codemirror_mode": {
    "name": "ipython",
    "version": 3
   },
   "file_extension": ".py",
   "mimetype": "text/x-python",
   "name": "python",
   "nbconvert_exporter": "python",
   "pygments_lexer": "ipython3",
   "version": "3.11.2"
  },
  "orig_nbformat": 4
 },
 "nbformat": 4,
 "nbformat_minor": 2
}
